{
 "cells": [
  {
   "cell_type": "code",
   "execution_count": 15,
   "metadata": {},
   "outputs": [
    {
     "name": "stdout",
     "output_type": "stream",
     "text": [
      "The autoreload extension is already loaded. To reload it, use:\n",
      "  %reload_ext autoreload\n"
     ]
    }
   ],
   "source": [
    "# import the fun\n",
    "%load_ext autoreload\n",
    "%autoreload 2\n",
    "\n",
    "import sys\n",
    "\n",
    "sys.path.append('./tools')\n",
    "sys.path.append('./data')\n",
    "\n",
    "import numpy as np\n",
    "from tqdm import tqdm\n",
    "import math\n",
    "import matplotlib.pyplot as plt\n",
    "import torch\n",
    "import torch.nn as nn\n",
    "import torch.nn.functional as F\n",
    "import Guided_Cond_DDPM_Tools as GC_DDPM\n",
    "\n",
    "from sklearn.decomposition import PCA\n",
    "\n",
    "import matplotlib.pyplot as plt\n",
    "\n",
    "from HullParameterization import Hull_Parameterization as HP\n",
    "\n",
    "\n",
    "np.set_printoptions(suppress=True) # don't use scientific notation"
   ]
  },
  {
   "cell_type": "code",
   "execution_count": 16,
   "metadata": {},
   "outputs": [
    {
     "name": "stdout",
     "output_type": "stream",
     "text": [
      "(82168, 45)\n",
      "(82793, 44)\n",
      "Volume:  (82168, 1010)\n",
      "(44, 2)\n"
     ]
    }
   ],
   "source": [
    "\n",
    "#Step 1: Load in the data # the Design Paramaters Set\n",
    "DesVec = np.load('./data/DesVec_82k.npy', allow_pickle=True)\n",
    "print(DesVec.shape)\n",
    "# print(\"DesVec 1: \", DesVec[0,:])\n",
    "DesVec_neg = np.load('./data/Negative_DesVec_82k.npy', allow_pickle=True)\n",
    "print(DesVec_neg.shape)\n",
    "# print(\"DesVec_neg 1: \", DesVec_neg[0,:])\n",
    "\n",
    "Peak_values = np.load('./data/peak_values.npy', allow_pickle=True)\n",
    "# print(\"Peak values: \", Peak_values)\n",
    "\n",
    "Rare_values = np.load('./data/rare_values.npy', allow_pickle=True)\n",
    "# print(\"Rare values: \", Rare_values)\n",
    "\n",
    "# Now lets clean up X\n",
    "\n",
    "idx_BBFactors = [33,34,35,36,37]\n",
    "idx_BB = 31\n",
    "\n",
    "idx_SBFactors = [38,39,40,41,42,43,44]\n",
    "idx_SB = 32\n",
    "\n",
    "for i in range(0,len(DesVec)):\n",
    "    \n",
    "    DesVec[i,idx_BBFactors] = DesVec[i,idx_BB] * DesVec[i,idx_BBFactors] \n",
    "    DesVec[i,idx_SBFactors] = DesVec[i,idx_SB] * DesVec[i,idx_SBFactors]\n",
    "\n",
    "\n",
    "\n",
    "Y = np.load('./data/GeometricMeasures.npy', allow_pickle=True) # 12 Geometry preporties \n",
    "print(\"Volume: \", Y.shape)\n",
    "\n",
    "LenRatios = np.load('./data/Length_Ratios.npy', allow_pickle=True) \n",
    "\n",
    "\n",
    "X_LIMITS = np.load('./data/X_LIMITS.npy') # Range of each parameters\n",
    "\n",
    "print(X_LIMITS.shape)\n",
    "\n",
    "X_lower_lim = [X_LIMITS[:,0].tolist()]                   \n",
    "X_upper_lim = [X_LIMITS[:,1].tolist()]\n",
    "\n"
   ]
  },
  {
   "cell_type": "code",
   "execution_count": 17,
   "metadata": {},
   "outputs": [
    {
     "name": "stdout",
     "output_type": "stream",
     "text": [
      "(array([77257, 77257, 77257, 77257]), array([1, 2, 3, 4]))\n",
      "(82168, 101)\n",
      "(82168,)\n",
      "Cw: (82168, 32)\n",
      "Cw 1:  [5.33590573e-05 1.48241263e-04 4.73110005e-04 9.32835334e-04\n",
      " 4.55477880e-03 2.73390696e-03 2.50265677e-03 3.27701191e-03\n",
      " 6.35966207e-05 2.61060835e-04 7.58461305e-04 1.39558117e-03\n",
      " 6.79105520e-03 3.70226242e-03 3.75574920e-03 5.15092304e-03\n",
      " 6.09336130e-05 3.35627818e-04 1.14779314e-03 2.04508053e-03\n",
      " 1.00218905e-02 4.84991400e-03 5.96316857e-03 8.89094546e-03\n",
      " 7.10554086e-05 3.37943813e-04 1.06909708e-03 2.07395479e-03\n",
      " 1.10484781e-02 5.16252732e-03 7.12133572e-03 1.17156953e-02]\n"
     ]
    },
    {
     "name": "stderr",
     "output_type": "stream",
     "text": [
      "C:\\Users\\24321\\AppData\\Local\\Temp\\ipykernel_2296\\452437049.py:4: RuntimeWarning: invalid value encountered in log10\n",
      "  VolVec = np.log10(Y[:,1*num_WL_Steps:2*num_WL_Steps]) # volume\n"
     ]
    }
   ],
   "source": [
    "#Set up Conditioning Vectors:\n",
    "num_WL_Steps = 101\n",
    "\n",
    "VolVec = np.log10(Y[:,1*num_WL_Steps:2*num_WL_Steps]) # volume \n",
    "idx = np.where(np.isnan(VolVec))\n",
    "print(idx)\n",
    "\n",
    "VolVec[idx] = -6.0 #fix nan to dummy value\n",
    "\n",
    "print(VolVec.shape)\n",
    "\n",
    "DdVec = DesVec[:,4] # Depth \n",
    "BOAVec = np.amax(LenRatios[:,1:3], axis=1) # Beam\n",
    "print(BOAVec.shape) \n",
    "\n",
    "Cw = np.load('./data/Cw_82k.npy', allow_pickle=True)\n",
    "print(\"Cw:\", Cw.shape)\n",
    "print(\"Cw 1: \", Cw[1])\n"
   ]
  },
  {
   "cell_type": "code",
   "execution_count": null,
   "metadata": {},
   "outputs": [],
   "source": [
    "# Set up the file for architecting the network, diffusion parameters, and training\n",
    "\n",
    "DDPM_C_Dict = {\n",
    "        'xdim' : len(DesVec[0]) -1,             # Dimension of parametric design vector\n",
    "        'datalength': len(DesVec),           # number of samples\n",
    "        'X_LL' : X_lower_lim,           # lower limits of parametric design vector variables\n",
    "        'X_UL' : X_upper_lim,\n",
    "        'ydim': 0,                       # Number of objectives\n",
    "        'cdim': 6,                      # number of conditioning inputs\n",
    "        'gamma' : 0.7,                  # 0.2 weight of feasibility guidance for guided sampling\n",
    "        'lambda': 0.7,                 # weight of drag  guidance for guided sampling\n",
    "        'tdim': 128,                    # 128 dimension of latent variable\n",
    "        'net': [512,512,512,512],   # network architecture\n",
    "        'batch_size': 1024,             # batch size\n",
    "        'Training_Epochs': 10000,      # number of training epochs\n",
    "        'Diffusion_Timesteps': 1000,    # number of diffusion timesteps\n",
    "        'lr' : 0.00025,                 # learning rate\n",
    "        'weight_decay': 0.0,            # weight decay  \n",
    "        'device_name': 'cuda:0'}        # gpu device name\n",
    "\n",
    "Classify_Dict = {\n",
    "        'xdim' : len(DesVec[0])-1,\n",
    "        'cdim': 1,\n",
    "        'tdim': 128,\n",
    "        'net': [64,64,64],\n",
    "        'Training_Epochs': 150000,\n",
    "        'device_name': 'cuda:0'}\n",
    "\n",
    "nodes = 512\n",
    "Drag_Reg_Dict = {\n",
    "        'xdim' : len(DesVec[0])-1,              # Dimension of parametric design vector\n",
    "        'ydim': 1,                              # trains regression model for each objective\n",
    "        'tdim': nodes,                            # dimension of latent variable\n",
    "        'net': [nodes,nodes,nodes,nodes],                       # network architecture        \n",
    "        'Training_Epochs': 30000,  #30000             # number of training epochs\n",
    "        'batch_size': 1024,                       # batch size\n",
    "        'Model_Label': 'Regressor_CT',         # labels for regressors       \n",
    "        'lr' : 0.001,                          # learning rate\n",
    "        'weight_decay': 0.0,                   # weight decay\n",
    "        'device_name': 'cuda:0'} \n",
    "\n",
    "nodes = 256\n",
    "LOA_wBulb_Reg_Dict = {\n",
    "        'xdim' : len(DesVec[0])-1,              # Dimension of parametric design vector\n",
    "        'ydim': 1,                              # trains regression model for each objective\n",
    "        'tdim': nodes,                            # dimension of latent variable\n",
    "        'net': [nodes,nodes,nodes],                       # network architecture        \n",
    "        'Training_Epochs': 150000,               # number of training epochs\n",
    "        'batch_size': 1024,                       # batch size\n",
    "        'Model_Label': 'Regressor_LOA_wBulb',         # labels for regressors\n",
    "                    \n",
    "        'lr' : 0.001,                          # learning rate\n",
    "        'weight_decay': 0.0,                   # weight decay\n",
    "        'device_name': 'cuda:0'}   \n",
    "\n",
    "WL_Reg_Dict = {\n",
    "        \"xdim\": len(DesVec[0]),\n",
    "        \"ydim\": 1, \n",
    "        \"tdim\": 512, \n",
    "        \"net\": [512, 512, 512], \n",
    "        \"Training_Epochs\": 30000, \n",
    "        \"batch_size\": 1024, \n",
    "        \"Model_Label\": \n",
    "        \"Regressor_WL\", \n",
    "        \"lr\": 0.001, \n",
    "        \"weight_decay\": 0.0, \n",
    "        \"device_name\": \"cuda:0\"}\n",
    "\n",
    "Vol_Reg_Dict = {\n",
    "                \"xdim\": len(DesVec[0]), \n",
    "                \"ydim\": 1, \n",
    "                \"tdim\": 512, \n",
    "                \"net\": [512, 512, 512], \n",
    "                \"Training_Epochs\": 30000, \n",
    "                \"batch_size\": 1024, \n",
    "                \"Model_Label\": \"Regressor_WL\", \n",
    "                \"lr\": 0.001, \n",
    "                \"weight_decay\": 0.0, \n",
    "                \"device_name\": \"cuda:0\"}\n",
    "\n",
    "T2 = GC_DDPM.GuidedDiffusionEnv(DDPM_C_Dict,\n",
    "                Classify_Dict,\n",
    "                Drag_Reg_Dict,\n",
    "                LOA_wBulb_Reg_Dict,\n",
    "                WL_Reg_Dict,\n",
    "                Vol_Reg_Dict,\n",
    "                X= DesVec[:,1:],\n",
    "                X_neg= DesVec_neg,\n",
    "                VolVec = VolVec, \n",
    "                BOAVec = BOAVec, \n",
    "                DdVec = DdVec,\n",
    "                Cw = Cw)"
   ]
  },
  {
   "cell_type": "code",
   "execution_count": 19,
   "metadata": {},
   "outputs": [],
   "source": [
    "'''\n",
    "===================================================\n",
    "train classifier\n",
    "===================================================\n",
    "'''\n",
    "# '''\n",
    "# T2.run_train_classifier_loop(batches_per_epoch=1)\n",
    "\n",
    "# PATH =  './TrainedModels/'\n",
    "\n",
    "# name = 'Constraint_Classifier' +'_'+ str(Classify_Dict['Training_Epochs']) + 'Epochs'\n",
    "\n",
    "# T2.Save_classifier_model(PATH, name)\n",
    "\n",
    "# '''\n",
    "classifier_path = './TrainedModels/Constraint_Classifier_150000Epochs.pth' \n",
    "\n",
    "T2.load_trained_classifier_model(classifier_path)\n"
   ]
  },
  {
   "cell_type": "code",
   "execution_count": 20,
   "metadata": {},
   "outputs": [],
   "source": [
    "'''\n",
    "===================================================\n",
    "Load Regression Models\n",
    "==================================================\n",
    "'''\n",
    "PATHS = ['./TrainedModels/Regressor_CT.pth',\n",
    "        './TrainedModels/Regressor_LOA_wBulb.pth',\n",
    "        './TrainedModels/Regressor_WL.pth',\n",
    "        './TrainedModels/Regressor_Vol.pth']\n",
    "#LOA_Reg_Path = './TrainedModels/Regressor_LOA_wBulb.pth'\n",
    "\n",
    "T2.load_trained_Drag_regression_models(PATHS)"
   ]
  },
  {
   "cell_type": "code",
   "execution_count": 21,
   "metadata": {},
   "outputs": [],
   "source": [
    "# '''\n",
    "# ================================================\n",
    "# train conditional diffusion model (wavedrag)\n",
    "# ==================================================\n",
    "# '''\n",
    "# '''\n",
    "\n",
    "# T2.run_train_diffusion_loop(batches_per_epoch=1)\n",
    "\n",
    "# PATH =  './TrainedModels/'\n",
    "\n",
    "# name = 'CShipGen_Cw'\n",
    "\n",
    "\n",
    "# T2.Save_diffusion_model(PATH, name)\n",
    "\n",
    "\n",
    "# '''\n",
    "                   \n",
    "diffusion_cw_path = './TrainedModels/CShipGen_Cw_8M_BD_diffusion.pth'\n",
    "T2.load_trained_diffusion_model(diffusion_cw_path)"
   ]
  },
  {
   "cell_type": "markdown",
   "metadata": {},
   "source": [
    "Visulization of the training loos: "
   ]
  },
  {
   "cell_type": "code",
   "execution_count": 22,
   "metadata": {},
   "outputs": [],
   "source": [
    "# plt.plot(T2.loss_history[:,0],T2.loss_history[:,1], label = 'Loss')\n",
    "# plt.title(\"Loss\")\n",
    "# plt.xlabel(\"Iterations\")\n",
    "# plt.ylabel(\"Loss value\")\n",
    "# plt.legend()\n",
    "# plt.grid(True)\n",
    "# plt.show()"
   ]
  },
  {
   "cell_type": "code",
   "execution_count": 23,
   "metadata": {},
   "outputs": [],
   "source": [
    "#Sample from the Model:\n",
    "num_samples = 512"
   ]
  },
  {
   "cell_type": "code",
   "execution_count": 24,
   "metadata": {},
   "outputs": [],
   "source": [
    "# Wave drag condtion \n",
    "Ships = np.array([[333, 42.624, 11.28, 29.064, 0.0003, 0.43], #Nimitz Class Carrier [LOA(m), BOA(m), T(m), Dd(m), Ct, Fn] Ct: 0.003826\n",
    "                  ])\n",
    "\n",
    "Labels = ['333', 'Kayak', 'Neo-Panamax Container Ship', 'NSC', 'ROPAX ferry']"
   ]
  },
  {
   "cell_type": "code",
   "execution_count": 25,
   "metadata": {},
   "outputs": [
    {
     "name": "stdout",
     "output_type": "stream",
     "text": [
      "Generating Hulls\n",
      "Condition:  (512, 6)\n",
      "Gen-no-guidance: \n",
      "x_gt_norm: tensor([[ 1.2221,  0.2040, -1.2101, -0.4625,  0.5554, -1.3666, -1.0248, -1.1171,\n",
      "         -0.5738, -0.8898, -0.0521,  0.4763, -1.6564,  0.9001,  0.8141, -0.8258,\n",
      "          0.1435, -0.2286, -1.6559, -5.1993, -5.1993,  0.0406, -0.6278, -1.2824,\n",
      "         -1.0300,  0.7681, -2.0514, -0.0612,  1.6653,  1.0643, -5.1993, -5.1993,\n",
      "         -5.1993, -5.1993, -5.1993, -0.0088, -5.1993, -5.1993, -5.1993, -5.1993,\n",
      "         -5.1993, -5.1993, -0.0213, -5.1993]], device='cuda:0')\n"
     ]
    },
    {
     "name": "stderr",
     "output_type": "stream",
     "text": [
      "100%|██████████| 999/999 [00:39<00:00, 25.19it/s]\n"
     ]
    },
    {
     "name": "stdout",
     "output_type": "stream",
     "text": [
      "Gen-guidance: \n"
     ]
    },
    {
     "name": "stderr",
     "output_type": "stream",
     "text": [
      "100%|██████████| 967/967 [01:10<00:00, 13.81it/s]\n",
      "100%|██████████| 32/32 [00:01<00:00, 25.91it/s]"
     ]
    },
    {
     "name": "stdout",
     "output_type": "stream",
     "text": [
      "(512, 44)\n"
     ]
    },
    {
     "name": "stderr",
     "output_type": "stream",
     "text": [
      "\n"
     ]
    }
   ],
   "source": [
    "# Run the Loop on the other samples:\n",
    "Study_Label = 'Study_' + str(0) + '_' + Labels[0] + '_CT_' + str(Ships[0, 4]) + '_Fn_' + str(Ships[0, 5])\n",
    "\n",
    "print('Generating Hulls')\n",
    "\n",
    "LOA = Ships[0,0] #in meters\n",
    "BoL = Ships[0,1]/LOA #beam to length ratio\n",
    "ToD = Ships[0,2]/Ships[0,3] #Draft to depth ratio\n",
    "DoL = Ships[0,3]/LOA #Depth to length ratio\n",
    "Ct = Ships[0, 4] # Wave drag coefficient\n",
    "\n",
    "Fn = Ships[0,5]  #  12.86 #m/s  = 25 knots\n",
    "\n",
    "dim_d = np.array([[ToD, Fn, LOA, Ct, DoL, BoL]]) #Drag_conditioning is [ToD, Fn(m/s), LOA (m), Ct]\n",
    "# num_sample = 512\n",
    "drag_cond = np.repeat(dim_d, num_samples, axis=0) #reapeat 512 \n",
    "#print(cond.shape)\n",
    "\n",
    "# dim_g = np.array([[ToD, BoL, DoL, Ct]])            # Condition Vector\n",
    "print('Condition: ',drag_cond.shape )\n",
    "\n",
    "# Parameters of known design (44 parameters, LOA given in CshipGen)\n",
    "\n",
    "x_gt = torch.tensor([4.96634266e-01  ,4.51955760e-01  ,BoL,\n",
    "8.75783026e-02,  5.71478128e-01,  1.43758851e-01,  1.31093639e-01,\n",
    "   DoL,  3.16418976e-01, -3.14146566e-01,  3.54170799e-01,\n",
    "4.29022789e-01,  1.32593811e-01,  6.56113803e-01,  1.69787741e+00,\n",
    "-1.84923196e+00,  3.88996124e-01, -3.26323986e-01,  1.01175034e+01,\n",
    "0.00000000e+00,  0.00000000e+00, -2.73985386e-01,  4.10849154e-01,\n",
    "2.80871749e-01, -2.13681006e+00,  1.77291155e+00,  1.66059315e+00,\n",
    "7.07736760e-02,  4.26586211e-01,  2.07895815e-01,  0.00000000e+00,\n",
    "0.00000000e+00,  0.00000000e+00,  0.00000000e+00 , 0.00000000e+00,\n",
    "0.00000000e+00,  0.00000000e+00,  0.00000000e+00,  0.00000000e+00,\n",
    "0.00000000e+00,  0.00000000e+00,  0.00000000e+00,  0.00000000e+00,\n",
    "0.00000000e+00]).to('cuda:0')\n",
    "\n",
    "\n",
    "# value with highest frequency\n",
    "# x_gt = torch.tensor(Peak_values[1:]).to('cuda:0')\n",
    "\n",
    "# # value with Lowest frequency\n",
    "# x_gt = torch.tensor(Rare_values[1:]).to('cuda:0')\n",
    "\n",
    "#----------------------------------\n",
    "# print('GT: ', x_gt)\n",
    "# Mask configuration\n",
    "# 0-6 :Principle Dimensions \n",
    "# 7-10: Midship Cross Section \n",
    "# 11-19: Bow Geometry \n",
    "# 20-30: Stern Geometry \n",
    "# 31-44: Bulb Geometries\n",
    "#----------------------------------\n",
    "\n",
    "keep_mask = torch.zeros(x_gt.shape).to('cuda:0')\n",
    "# keep_mask[0:1] = 1\n",
    "keep_mask[6] = 1\n",
    "Enable_mask = 1\n",
    "\n",
    "# print(\"mask:\", keep_mask)\n",
    "# print(\"temp: \", x_gt*keep_mask)\n",
    "\n",
    "# normalization:\n",
    "x_gt_unorm = x_gt\n",
    "x_gt =x_gt.cpu().numpy()\n",
    "x_gt = x = 2.0*(x_gt-T2.data_norm.X_LL_Scaled)/(T2.data_norm.X_UL_Scaled- T2.data_norm.X_LL_Scaled) - 1.0\n",
    "x_gt = T2.data_norm.normalizer.transform(x)\n",
    "# print(\"x_gt_norm: \",x_gt)\n",
    "x_gt = torch.from_numpy(x_gt.astype('float32')).to('cuda:0')\n",
    "\n",
    "\n",
    "# Gen Samples:\n",
    "print(\"Gen-no-guidance: \")\n",
    "X_gen_cond, unnorm_cond_only = T2.gen_cond_samples(drag_cond, x_gt = x_gt, keep_mask = keep_mask, Repaint = Enable_mask)\n",
    "\n",
    "print(\"Gen-guidance: \")\n",
    "X_gen, unnorm = T2.gen_low_drag_samples(drag_cond, x_gt = x_gt, keep_mask = keep_mask, Repaint = Enable_mask) \n",
    "\n",
    "print(X_gen_cond.shape)\n"
   ]
  },
  {
   "cell_type": "code",
   "execution_count": 26,
   "metadata": {},
   "outputs": [
    {
     "name": "stdout",
     "output_type": "stream",
     "text": [
      "LOA:  333.0\n",
      "X_shape: (512, 44)\n",
      "condition:  [3.88109001e-01 4.30000000e-01 3.33000000e+02 3.00000000e-04\n",
      " 8.72792793e-02 1.28000000e-01]\n",
      "-----------------------------------------------------\n",
      "Predicted Mean Drag Coefficient Ct of Guidance samples: 0.00028385778\n",
      "Predicted Mean Drag of Guidance samples: 9321760.0 N\n",
      "Minimum Drag of Guidance samples: 8337946.5 N\n",
      "-----------------------------------------------------\n",
      "Predicted Mean Drag Coefficient Ct of no Guidance samples: 0.00028468692\n",
      "Predicted Mean Drag of no Guidance samples: 9339336.0 N\n",
      "Minimum Drag of no Guidance samples: 8268152.0 N\n"
     ]
    }
   ],
   "source": [
    "print(\"LOA: \", LOA)\n",
    "print(\"X_shape:\", unnorm.shape)\n",
    "\n",
    "UorF = 1 # Use Fn as condition or not \n",
    "print(\"condition: \", dim_d[0])\n",
    "Rt_guidance, CT = T2.Predict_Drag(unnorm, drag_cond, UorF = UorF)    # Drag_conditioning is [ToD, Fn(m/s), LOA (m), Ct]\n",
    "Drag_Guidance = np.mean(Rt_guidance)\n",
    "Ct_mean = np.mean(CT)\n",
    "\n",
    "Rt_no_guidance, CT_no = T2.Predict_Drag(unnorm_cond_only, drag_cond, UorF = UorF)    # Drag_conditioning is [ToD, Fn(m/s), LOA (m), Ct]\n",
    "Drag_no_Guidance = np.mean(Rt_no_guidance)\n",
    "Ct_no_mean = np.mean(CT_no)\n",
    "\n",
    "print('-----------------------------------------------------')\n",
    "print('Predicted Mean Drag Coefficient Ct of Guidance samples:', Ct_mean)\n",
    "print('Predicted Mean Drag of Guidance samples: ' + str(Drag_Guidance) + ' N')\n",
    "print('Minimum Drag of Guidance samples: ' + str(np.amin(Rt_guidance)) + ' N')\n",
    "print('-----------------------------------------------------')\n",
    "print('Predicted Mean Drag Coefficient Ct of no Guidance samples:', Ct_no_mean)\n",
    "print('Predicted Mean Drag of no Guidance samples: ' + str(Drag_no_Guidance) + ' N')\n",
    "print('Minimum Drag of no Guidance samples: ' + str(np.amin(Rt_no_guidance)) + ' N')"
   ]
  },
  {
   "cell_type": "code",
   "execution_count": 27,
   "metadata": {},
   "outputs": [
    {
     "name": "stdout",
     "output_type": "stream",
     "text": [
      "Checking Feasibility of Samples\n"
     ]
    },
    {
     "name": "stderr",
     "output_type": "stream",
     "text": [
      "100%|██████████| 512/512 [00:00<00:00, 10771.24it/s]\n"
     ]
    },
    {
     "name": "stdout",
     "output_type": "stream",
     "text": [
      "Fesible design with guidance:  512\n"
     ]
    },
    {
     "name": "stderr",
     "output_type": "stream",
     "text": [
      "100%|██████████| 512/512 [03:40<00:00,  2.33it/s]\n"
     ]
    },
    {
     "name": "stdout",
     "output_type": "stream",
     "text": [
      "512\n"
     ]
    },
    {
     "name": "stderr",
     "output_type": "stream",
     "text": [
      "100%|██████████| 512/512 [00:00<00:00, 10042.15it/s]\n"
     ]
    },
    {
     "name": "stdout",
     "output_type": "stream",
     "text": [
      "Fesible design with no guidance:  512\n"
     ]
    },
    {
     "name": "stderr",
     "output_type": "stream",
     "text": [
      "100%|██████████| 512/512 [03:39<00:00,  2.34it/s]"
     ]
    },
    {
     "name": "stdout",
     "output_type": "stream",
     "text": [
      "512\n"
     ]
    },
    {
     "name": "stderr",
     "output_type": "stream",
     "text": [
      "\n"
     ]
    }
   ],
   "source": [
    "print('Checking Feasibility of Samples')\n",
    "\n",
    "x_samples = X_gen\n",
    "LOAs = np.repeat(LOA , x_samples.shape[0])\n",
    "x_samples = np.hstack((LOAs[:,np.newaxis], x_samples))\n",
    "\n",
    "for i in range(0,len(x_samples)):\n",
    "    \n",
    "    x_samples[i,idx_BB] = (x_samples[i,idx_BB] + 0.5) // 1 #int rounds to 1 or 0\n",
    "    x_samples[i,idx_SB] = (x_samples[i,idx_SB] + 0.5) // 1 #int rounds to 1 or 0\n",
    "    \n",
    "    \n",
    "    x_samples[i,idx_BBFactors] = x_samples[i,idx_BB] * x_samples[i,idx_BBFactors] \n",
    "    x_samples[i,idx_SBFactors] = x_samples[i,idx_SB] * x_samples[i,idx_SBFactors]\n",
    "\n",
    "#Check the constraint violations for the sampled designs\n",
    "constraints = []\n",
    "sum_violation = []\n",
    "cons = []\n",
    "valid_idx = []\n",
    "# check guidance result\n",
    "for i in tqdm(range(0,len(x_samples))):\n",
    "    hull = HP(x_samples[i])\n",
    "    constraints.append(hull.input_Constraints())\n",
    "    cons.append(constraints[i] > 0)\n",
    "    if sum(cons[i]) == 0:\n",
    "        valid_idx.append(i)\n",
    "        #hull.Calc_VolumeProperties(NUM_WL = 101, PointsPerWL = 1000)\n",
    "    sum_violation.append(sum(cons[i]))\n",
    "\n",
    "print(\"Fesible design with guidance: \", len(valid_idx))\n",
    "\n",
    "# Calculate the BOA and Dd / under guidance \n",
    "sample_BOA = []\n",
    "sample_Dd = []\n",
    "idx_to_remove = []\n",
    "\n",
    "for i in tqdm(range(0,len(valid_idx))): # calculate the performance of the generated samples \n",
    "    hull = HP(x_samples[valid_idx[i]]) \n",
    "    # print(i)\n",
    "    try:\n",
    "        Z = hull.Calc_VolumeProperties(NUM_WL = 101, PointsPerWL = 1000)\n",
    "        BOA = max(hull.Calc_Max_Beam_midship(), hull.Calc_Max_Beam_PC())\n",
    "        sample_BOA.append(BOA)\n",
    "        sample_Dd.append(hull.Dd)\n",
    "    except:\n",
    "        print('error at hull {}'.format(i))\n",
    "        idx_to_remove.append(i)\n",
    "        continue\n",
    "\n",
    "#Remove the samples that failed to calculate volume properties\n",
    "valid_idx = np.delete(valid_idx, idx_to_remove)\n",
    "print(len(valid_idx))\n",
    "\n",
    "x_samples = X_gen_cond\n",
    "LOAs = np.repeat(LOA , x_samples.shape[0])\n",
    "x_samples = np.hstack((LOAs[:,np.newaxis], x_samples))\n",
    "\n",
    "for i in range(0,len(x_samples)):\n",
    "    \n",
    "    x_samples[i,idx_BB] = (x_samples[i,idx_BB] + 0.5) // 1 #int rounds to 1 or 0\n",
    "    x_samples[i,idx_SB] = (x_samples[i,idx_SB] + 0.5) // 1 #int rounds to 1 or 0\n",
    "    \n",
    "    \n",
    "    x_samples[i,idx_BBFactors] = x_samples[i,idx_BB] * x_samples[i,idx_BBFactors] \n",
    "    x_samples[i,idx_SBFactors] = x_samples[i,idx_SB] * x_samples[i,idx_SBFactors]\n",
    "\n",
    "#Check the constraint violations for the sampled designs\n",
    "constraints_1 = []\n",
    "sum_violation_1 = []\n",
    "cons_1 = []\n",
    "valid_idx_1 = []\n",
    "# check guidance result\n",
    "for i in tqdm(range(0,len(x_samples))):\n",
    "    hull = HP(x_samples[i])\n",
    "    constraints_1.append(hull.input_Constraints())\n",
    "    cons_1.append(constraints_1[i] > 0)\n",
    "    if sum(cons_1[i]) == 0:\n",
    "        valid_idx_1.append(i)\n",
    "        #hull.Calc_VolumeProperties(NUM_WL = 101, PointsPerWL = 1000)\n",
    "    sum_violation_1.append(sum(cons_1[i]))\n",
    "\n",
    "print(\"Fesible design with no guidance: \", len(valid_idx_1))\n",
    "\n",
    "# Calculate the BOA and Dd / without guidance \n",
    "sample_BOA_ng = []\n",
    "sample_Dd_ng = []\n",
    "idx_to_remove_ng = []\n",
    "\n",
    "for i in tqdm(range(0,len(valid_idx_1))): # calculate the performance of the generated samples \n",
    "    hull = HP(x_samples[valid_idx_1[i]]) \n",
    "    # print(i)\n",
    "    try:\n",
    "        Z = hull.Calc_VolumeProperties(NUM_WL = 101, PointsPerWL = 1000)\n",
    "        BOA = max(hull.Calc_Max_Beam_midship(), hull.Calc_Max_Beam_PC())\n",
    "        sample_BOA_ng.append(BOA)\n",
    "        sample_Dd_ng.append(hull.Dd)\n",
    "    except:\n",
    "        print('error at hull {}'.format(i))\n",
    "        idx_to_remove_ng.append(i)\n",
    "        continue\n",
    "\n",
    "#Remove the samples that failed to calculate volume properties\n",
    "valid_idx_1 = np.delete(valid_idx_1, idx_to_remove_ng)\n",
    "print(len(valid_idx_1)) "
   ]
  },
  {
   "cell_type": "code",
   "execution_count": 29,
   "metadata": {},
   "outputs": [
    {
     "name": "stdout",
     "output_type": "stream",
     "text": [
      "Caclculating Error in Samples:\n",
      "CT with guidance MAPE: 6.073437584274797%\n",
      "Beam MEAP: 1.0939675256484507%\n",
      "Depth MEAP: 0.4609230315090871%\n",
      "CT without guidance MAPE: 5.790587604562743%\n",
      "Beam MEAP: 1.1089672840668696%\n",
      "Depth MEAP: 0.4300848430643224%\n"
     ]
    }
   ],
   "source": [
    "# np.save('./result/' + Study_Label + '_Conditioning_Only_RT_DesVec.npy',X_gen_cond[valid_idx_1])\n",
    "# np.save('./result/' + Study_Label + '_Drag_Guidance_DesVec.npy',X_gen[valid_idx])\n",
    "# np.save('./result/' + Study_Label + '_Rt_pred.npy',Rt_guidance[valid_idx])\n",
    "\n",
    "# The error of result under guidance\n",
    "print('Caclculating Error in Samples:')\n",
    "\n",
    "sample_RT = Rt_guidance[valid_idx]\n",
    "sample_Ct = CT[valid_idx]\n",
    "sample_BOA = np.array(sample_BOA)   # Beam \n",
    "sample_Dd = np.array(sample_Dd)     # Depth\n",
    "\n",
    "CTMAPE = np.mean(np.abs(sample_Ct - Ships[0,4])/sample_Ct)*100\n",
    "print('CT with guidance MAPE: {}%'.format(CTMAPE))\n",
    "\n",
    "BOAMEAP = np.mean(np.abs(sample_BOA - Ships[0,1])/Ships[0,1])*100\n",
    "print('Beam MEAP: {}%'.format(BOAMEAP))\n",
    "\n",
    "DdMEAP = np.mean(np.abs(sample_Dd - Ships[0,3])/Ships[0,3])*100\n",
    "print('Depth MEAP: {}%'.format(DdMEAP))\n",
    "\n",
    "# The error of result under condition only and no guidance\n",
    "sample_RT = Rt_no_guidance[valid_idx_1]\n",
    "sample_no_Ct = CT_no[valid_idx_1]\n",
    "sample_BOA = np.array(sample_BOA_ng)   # Beam \n",
    "sample_Dd = np.array(sample_Dd_ng)     # Depth\n",
    "CTMAPE = np.mean(np.abs(sample_no_Ct - Ships[0,4])/sample_no_Ct)*100\n",
    "print('CT without guidance MAPE: {}%'.format(CTMAPE))\n",
    "\n",
    "BOAMEAP = np.mean(np.abs(sample_BOA - Ships[0,1])/Ships[0,1])*100\n",
    "print('Beam MEAP: {}%'.format(BOAMEAP))\n",
    "\n",
    "DdMEAP = np.mean(np.abs(sample_Dd - Ships[0,3])/Ships[0,3])*100\n",
    "print('Depth MEAP: {}%'.format(DdMEAP))\n",
    "\n"
   ]
  },
  {
   "cell_type": "code",
   "execution_count": 30,
   "metadata": {},
   "outputs": [
    {
     "name": "stdout",
     "output_type": "stream",
     "text": [
      "Expect value:  0.0003\n",
      "Mean of Ct with guidance:  0.00028385778\n",
      "Variance of Ct with guidance:  1.2191043e-10\n",
      "Error to expect value:  1.6142221586778734e-05\n",
      "Mean of Ct without guidance:  0.00028468692\n",
      "Variance of Ct without guidance:  1.1670456e-10\n",
      "Error to expect value:  1.5313082560896847e-05\n"
     ]
    },
    {
     "data": {
      "image/png": "[encoded data removed]",
      "text/plain": [
       "<Figure size 1200x500 with 2 Axes>"
      ]
     },
     "metadata": {},
     "output_type": "display_data"
    }
   ],
   "source": [
    "bin_num = 20\n",
    "fig, axs = plt.subplots(1, 2, figsize=(12, 5)) \n",
    "counts, edges = np.histogram(sample_Ct, bins=bin_num)\n",
    "print(\"Expect value: \", Ct )\n",
    "print(\"Mean of Ct with guidance: \",np.mean(sample_Ct))\n",
    "print(\"Variance of Ct with guidance: \", np.var(CT))\n",
    "print(\"Error to expect value: \", np.abs(Ct - np.mean(sample_Ct)) )\n",
    "\n",
    "counts_2, edges_2 = np.histogram(CT_no, bins = bin_num)\n",
    "print(\"Mean of Ct without guidance: \", np.mean(CT_no))\n",
    "print(\"Variance of Ct without guidance: \", np.var(CT_no))\n",
    "print(\"Error to expect value: \", np.abs(Ct - Ct_no_mean) )\n",
    "\n",
    "axs[0].bar(edges[:-1], counts, width=np.diff(edges), edgecolor='black', align='edge')\n",
    "axs[0].axvline(x=Ct, color='red', linestyle='--', label=f'Expect value: {Ct}')\n",
    "axs[0].axvline(x=np.mean(sample_Ct), color='blue', linestyle='--', label=f'Mean: {Ct_mean}')\n",
    "axs[0].set_title('Ct with guidance')\n",
    "axs[0].set_xlabel('Value')\n",
    "axs[0].set_ylabel('Density')\n",
    "axs[0].legend()\n",
    "\n",
    "axs[1].bar(edges_2[:-1], counts_2, width=np.diff(edges_2), edgecolor='black', align='edge')\n",
    "axs[1].axvline(x=Ct, color='red', linestyle='--', label=f'Expect value: {Ct}')\n",
    "axs[1].axvline(x=np.mean(CT_no), color='blue', linestyle='--', label=f'Mean: {Ct_no_mean}')\n",
    "axs[1].set_title('Ct without guidance')\n",
    "axs[1].set_xlabel('Value')\n",
    "axs[1].set_ylabel('Density')\n",
    "axs[1].legend()\n",
    "\n",
    "plt.tight_layout()\n",
    "plt.show()"
   ]
  },
  {
   "cell_type": "code",
   "execution_count": 31,
   "metadata": {},
   "outputs": [
    {
     "name": "stdout",
     "output_type": "stream",
     "text": [
      "Expect value:  0.0003\n",
      "Mean value:  0.00028385778\n"
     ]
    },
    {
     "data": {
      "image/png": "[encoded data removed]",
      "text/plain": [
       "<Figure size 640x480 with 1 Axes>"
      ]
     },
     "metadata": {},
     "output_type": "display_data"
    }
   ],
   "source": [
    "counts, edges = np.histogram(sample_Ct, bins = 20)\n",
    "print(\"Expect value: \", Ct)\n",
    "print(\"Mean value: \", np.mean(CT))\n",
    "plt.bar(edges[:-1], counts, width=np.diff(edges), edgecolor='black', align='edge')\n",
    "plt.axvline(x=Ct, color='red', linestyle='--', label=f'Expected: {Ct}')\n",
    "plt.axvline(np.mean(sample_Ct), color='blue', linestyle='--', label=f'Mean: {np.mean(sample_Ct)}')\n",
    "plt.legend()\n",
    "plt.title(\"Ct\")\n",
    "plt.xlabel(\"Value\")\n",
    "plt.ylabel(\"Density\")\n",
    "plt.show()"
   ]
  },
  {
   "cell_type": "code",
   "execution_count": 32,
   "metadata": {},
   "outputs": [
    {
     "data": {
      "image/png": "[encoded data removed]",
      "text/plain": [
       "<Figure size 640x480 with 1 Axes>"
      ]
     },
     "metadata": {},
     "output_type": "display_data"
    }
   ],
   "source": [
    "counts, edges = np.histogram(sample_RT, bins=20)\n",
    "\n",
    "plt.bar(edges[:-1], counts, width=np.diff(edges), edgecolor='black', align='edge')\n",
    "plt.axvline(x=np.mean(sample_RT), color='red', linestyle='--', label=f'Mean RT: {np.mean(sample_RT)}')\n",
    "plt.legend()\n",
    "plt.title(\"Rt\")\n",
    "plt.xlabel(\"Value\")\n",
    "plt.ylabel(\"Density\")\n",
    "plt.show()\n",
    "# print(sample_RT)"
   ]
  },
  {
   "cell_type": "code",
   "execution_count": 33,
   "metadata": {},
   "outputs": [
    {
     "name": "stdout",
     "output_type": "stream",
     "text": [
      "unnormalized generated result [[ 0.        -0.        -0.        -0.         0.        -0.\n",
      "  -1.0248345  0.         0.        -0.         0.        -0.\n",
      "  -0.        -0.         0.        -0.         0.        -0.\n",
      "  -0.        -0.         0.        -0.         0.         0.\n",
      "  -0.        -0.         0.        -0.         0.        -0.\n",
      "  -0.        -0.        -0.        -0.        -0.         0.\n",
      "  -0.        -0.        -0.        -0.        -0.        -0.\n",
      "  -0.        -0.       ]]\n",
      "normalized generated result [[ 0.          0.          0.          0.          0.          0.\n",
      "   0.13109364  0.          0.         -0.          0.         -0.\n",
      "   0.          0.          0.         -0.          0.         -0.\n",
      "   0.          0.          0.         -0.          0.          0.\n",
      "  -0.          0.          0.          0.          0.         -0.\n",
      "   0.          0.          0.          0.          0.          0.\n",
      "   0.          0.          0.          0.          0.          0.\n",
      "   0.          0.        ]]\n",
      "x_gt_unorm:  tensor([0.0000, 0.0000, 0.0000, 0.0000, 0.0000, 0.0000, 0.1311, 0.0000, 0.0000,\n",
      "        -0.0000, 0.0000, 0.0000, 0.0000, 0.0000, 0.0000, -0.0000, 0.0000, -0.0000,\n",
      "        0.0000, 0.0000, 0.0000, -0.0000, 0.0000, 0.0000, -0.0000, 0.0000, 0.0000,\n",
      "        0.0000, 0.0000, 0.0000, 0.0000, 0.0000, 0.0000, 0.0000, 0.0000, 0.0000,\n",
      "        0.0000, 0.0000, 0.0000, 0.0000, 0.0000, 0.0000, 0.0000, 0.0000],\n",
      "       device='cuda:0', dtype=torch.float64)\n",
      "gt:  tensor([[ 0.0000,  0.0000, -0.0000, -0.0000,  0.0000, -0.0000, -1.0248, -0.0000,\n",
      "         -0.0000, -0.0000, -0.0000,  0.0000, -0.0000,  0.0000,  0.0000, -0.0000,\n",
      "          0.0000, -0.0000, -0.0000, -0.0000, -0.0000,  0.0000, -0.0000, -0.0000,\n",
      "         -0.0000,  0.0000, -0.0000, -0.0000,  0.0000,  0.0000, -0.0000, -0.0000,\n",
      "         -0.0000, -0.0000, -0.0000, -0.0000, -0.0000, -0.0000, -0.0000, -0.0000,\n",
      "         -0.0000, -0.0000, -0.0000, -0.0000]], device='cuda:0')\n"
     ]
    }
   ],
   "source": [
    "# print(unnorm_cond_only[1:3])\n",
    "print(\"unnormalized generated result\",unnorm_cond_only[1:2]*keep_mask.cpu().numpy())\n",
    "print(\"normalized generated result\",X_gen_cond[1:2]*keep_mask.cpu().numpy())\n",
    "print(\"x_gt_unorm: \", x_gt_unorm*keep_mask)\n",
    "# print(X_gen_cond[1:2]*keep_mask.cpu().numpy())\n",
    "# print(\"R: \",Rare_values)\n",
    "# print(\"R: \",Rare_values[8:9])\n",
    "print(\"gt: \", x_gt*keep_mask)\n",
    "# print(\"gt: \", x_gt[7:11])\n"
   ]
  }
 ],
 "metadata": {
  "kernelspec": {
   "display_name": "cDDPM",
   "language": "python",
   "name": "python3"
  },
  "language_info": {
   "codemirror_mode": {
    "name": "ipython",
    "version": 3
   },
   "file_extension": ".py",
   "mimetype": "text/x-python",
   "name": "python",
   "nbconvert_exporter": "python",
   "pygments_lexer": "ipython3",
   "version": "3.10.18"
  }
 },
 "nbformat": 4,
 "nbformat_minor": 2
}
